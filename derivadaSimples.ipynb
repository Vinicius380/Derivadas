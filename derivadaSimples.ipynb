{
 "cells": [
  {
   "cell_type": "markdown",
   "metadata": {},
   "source": [
    "### Derivada Simples"
   ]
  },
  {
   "cell_type": "code",
   "execution_count": 1,
   "metadata": {},
   "outputs": [
    {
     "name": "stdout",
     "output_type": "stream",
     "text": [
      "6*x + 2\n"
     ]
    }
   ],
   "source": [
    "from sympy import symbols, diff\n",
    "\n",
    "x = symbols(\"x\")\n",
    "f = 3*x**2 + 2*x +1\n",
    "\n",
    "f_1 = diff(f,x)\n",
    "print(f_1)"
   ]
  },
  {
   "cell_type": "markdown",
   "metadata": {},
   "source": [
    "### Derivada Trigonometrica"
   ]
  },
  {
   "cell_type": "code",
   "execution_count": 2,
   "metadata": {},
   "outputs": [
    {
     "name": "stdout",
     "output_type": "stream",
     "text": [
      "Seno de X:  cos(x)\n"
     ]
    }
   ],
   "source": [
    "from sympy import symbols, sin, diff\n",
    "\n",
    "x = symbols(\"x\")\n",
    "f = sin(x)\n",
    "\n",
    "f_1 = diff(f,x)\n",
    "print(\"Seno de X: \",f_1)"
   ]
  },
  {
   "cell_type": "markdown",
   "metadata": {},
   "source": [
    "### Derivada Funcao Composta"
   ]
  },
  {
   "cell_type": "code",
   "execution_count": 3,
   "metadata": {},
   "outputs": [
    {
     "name": "stdout",
     "output_type": "stream",
     "text": [
      "-2*x*sin(a**2 + x**2)\n"
     ]
    }
   ],
   "source": [
    "from sympy import symbols, diff, cos\n",
    "from sympy.physics.units.quantities import Quantity\n",
    "\n",
    "x = symbols(\"x\")\n",
    "a = Quantity(\"a\")\n",
    "\n",
    "f = cos(a**2+x**2)\n",
    "\n",
    "f_1 = diff(f,x)\n",
    "print(f_1)"
   ]
  },
  {
   "cell_type": "markdown",
   "metadata": {},
   "source": [
    "### Derivadas Parciais"
   ]
  },
  {
   "cell_type": "code",
   "execution_count": 4,
   "metadata": {},
   "outputs": [
    {
     "name": "stdout",
     "output_type": "stream",
     "text": [
      "F em funcao de X: 2*y + 2\n",
      "F em funcao de Y: 2*x + 6*y\n"
     ]
    }
   ],
   "source": [
    "from sympy import symbols, diff\n",
    "\n",
    "x, y = symbols(\"x y\")\n",
    "\n",
    "f = x*2 + 3*y**2 + 2*x*y\n",
    "\n",
    "f_partial_x = diff(f,x)\n",
    "f_partial_y = diff(f, y)\n",
    "\n",
    "print(\"F em funcao de X:\", f_partial_x)\n",
    "print(\"F em funcao de Y:\", f_partial_y)"
   ]
  },
  {
   "cell_type": "markdown",
   "metadata": {},
   "source": [
    "### Exercicios\n",
    "\n",
    "\n",
    "#### a) f(u) = 5u ^ 3 - 2u ^ 2 + 6u + 1\n",
    "\n",
    "#### b) f(x) = 20sen(x) + 2tag(x)\n",
    "\n",
    "#### c) f(x) = e ^ x + 3\n",
    "\n",
    "#### d) f(x) = (x ^ 2 - x - 2) ^ 3\n",
    "\n",
    "#### e) f(x)=e^ x. cos(c)\n",
    "\n",
    "#### f) f(x, y) = sin(5x ^ 2) + 4x * y ^ 3 + y - x ^ 3\n",
    "\n",
    "#### g) g(x, y, z) - e ^ (xy) * sin(z) - x ^ 2 * z ^ 3\n",
    "\n",
    "\n",
    "\n",
    "\n",
    "\n",
    "\n"
   ]
  },
  {
   "cell_type": "code",
   "execution_count": 5,
   "metadata": {},
   "outputs": [
    {
     "name": "stdout",
     "output_type": "stream",
     "text": [
      "15*u**2 - 4*u + 6\n"
     ]
    }
   ],
   "source": [
    "from sympy import symbols, diff\n",
    "\n",
    "u = symbols(\"u\")\n",
    "\n",
    "a = 5*u**3 - 2*u**2 + 6*u + 1\n",
    "\n",
    "a_1 = diff(a, u)\n",
    "\n",
    "print(a_1)"
   ]
  },
  {
   "cell_type": "code",
   "execution_count": 6,
   "metadata": {},
   "outputs": [
    {
     "name": "stdout",
     "output_type": "stream",
     "text": [
      "20*cos(x) + 2*tan(x)**2 + 2\n"
     ]
    }
   ],
   "source": [
    "from sympy import symbols, diff, sin, tan\n",
    "\n",
    "x = symbols(\"x\")\n",
    "\n",
    "b = 20*sin(x) + 2*tan(x)\n",
    "\n",
    "b_1 = diff(b, x)\n",
    "\n",
    "print(b_1)"
   ]
  },
  {
   "cell_type": "code",
   "execution_count": 7,
   "metadata": {},
   "outputs": [
    {
     "name": "stdout",
     "output_type": "stream",
     "text": [
      "e**x*log(e)\n"
     ]
    }
   ],
   "source": [
    "from sympy import symbols, diff\n",
    "from sympy.physics.units.quantities import Quantity\n",
    "\n",
    "x = symbols(\"x\")\n",
    "e = Quantity(\"e\")\n",
    "\n",
    "c = e**x + 3\n",
    "\n",
    "c_1 = diff(c, x)\n",
    "\n",
    "print(c_1)"
   ]
  },
  {
   "cell_type": "code",
   "execution_count": 8,
   "metadata": {},
   "outputs": [
    {
     "name": "stdout",
     "output_type": "stream",
     "text": [
      "(6*x - 3)*(x**2 - x - 2)**2\n"
     ]
    }
   ],
   "source": [
    "from sympy import symbols, diff\n",
    "\n",
    "x = symbols(\"x\")\n",
    "\n",
    "d = (x**2 - x - 2)**3\n",
    "\n",
    "d_1 = diff(d, x)\n",
    "\n",
    "print(d_1)"
   ]
  },
  {
   "cell_type": "code",
   "execution_count": 9,
   "metadata": {},
   "outputs": [
    {
     "name": "stdout",
     "output_type": "stream",
     "text": [
      "e**x*log(e)*cos(x) - e**x*sin(x)\n"
     ]
    }
   ],
   "source": [
    "from sympy import symbols, diff\n",
    "from sympy.physics.units.quantities import Quantity\n",
    "\n",
    "x = symbols(\"x\")\n",
    "e = Quantity(\"e\")\n",
    "\n",
    "E = e**x*cos(x)\n",
    "\n",
    "E_1 = diff(E, x)\n",
    "\n",
    "print(E_1)"
   ]
  },
  {
   "cell_type": "code",
   "execution_count": 11,
   "metadata": {},
   "outputs": [
    {
     "name": "stdout",
     "output_type": "stream",
     "text": [
      "Em funcao de X: -3*x**2 + 10*x*cos(5*x**2) + 4*y**3\n",
      "Em funcao de Y: 12*x*y**2 + 1\n"
     ]
    }
   ],
   "source": [
    "from sympy import symbols, diff, sin, cos\n",
    "\n",
    "x, y = symbols(\"x y\")\n",
    "\n",
    "f = sin(5*x**2) + 4*x*y**3 + y - x**3\n",
    "\n",
    "f_partial_x = diff(f,x)\n",
    "f_partial_y = diff(f, y)\n",
    "\n",
    "print(\"Em funcao de X:\", f_partial_x)\n",
    "print(\"Em funcao de Y:\", f_partial_y)"
   ]
  },
  {
   "cell_type": "code",
   "execution_count": 17,
   "metadata": {},
   "outputs": [
    {
     "name": "stdout",
     "output_type": "stream",
     "text": [
      "Em funcao de X: -e**(x*y)*y*log(e)*sin(z) - 2*x*z**3\n",
      "Em funcao de Y: -e**(x*y)*x*log(e)*sin(z)\n",
      "Em funcao de Z: -e**(x*y)*cos(z) - 3*x**2*z**2\n"
     ]
    }
   ],
   "source": [
    "from sympy import symbols, diff, sin, cos\n",
    "from sympy.physics.units.quantities import Quantity\n",
    "\n",
    "x, y, z= symbols(\"x y z\")\n",
    "e = Quantity(\"e\")\n",
    "\n",
    "\n",
    "g = -e**(x*y) * sin(z) - x**2 * z**3\n",
    "\n",
    "g_partial_x = diff(g,x)\n",
    "g_partial_y = diff(g,y)\n",
    "g_partial_z = diff(g,z)\n",
    "\n",
    "print(\"Em funcao de X:\", g_partial_x)\n",
    "print(\"Em funcao de Y:\", g_partial_y)\n",
    "print(\"Em funcao de Z:\", g_partial_z)"
   ]
  }
 ],
 "metadata": {
  "kernelspec": {
   "display_name": "Python 3",
   "language": "python",
   "name": "python3"
  },
  "language_info": {
   "codemirror_mode": {
    "name": "ipython",
    "version": 3
   },
   "file_extension": ".py",
   "mimetype": "text/x-python",
   "name": "python",
   "nbconvert_exporter": "python",
   "pygments_lexer": "ipython3",
   "version": "3.12.1"
  }
 },
 "nbformat": 4,
 "nbformat_minor": 2
}
